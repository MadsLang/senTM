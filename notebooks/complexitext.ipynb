{
 "cells": [
  {
   "cell_type": "code",
   "execution_count": 1,
   "metadata": {},
   "outputs": [],
   "source": [
    "from sentm import complexitext\n",
    "import pandas as pd\n",
    "import spacy\n",
    "import lemmy\n",
    "import numpy as np\n",
    "from scipy import stats\n",
    "import matplotlib.pyplot as plt"
   ]
  },
  {
   "cell_type": "code",
   "execution_count": 26,
   "metadata": {},
   "outputs": [],
   "source": [
    "lemma_table = complexitext._read_lemma_table()\n",
    "lemma_table = lemma_table.dropna(subset=\"lemma\")"
   ]
  },
  {
   "cell_type": "code",
   "execution_count": 27,
   "metadata": {},
   "outputs": [],
   "source": [
    "lemma_table[\"word_length\"] = lemma_table[\"lemma\"].apply(len)"
   ]
  },
  {
   "cell_type": "code",
   "execution_count": 28,
   "metadata": {},
   "outputs": [
    {
     "data": {
      "text/html": [
       "<div>\n",
       "<style scoped>\n",
       "    .dataframe tbody tr th:only-of-type {\n",
       "        vertical-align: middle;\n",
       "    }\n",
       "\n",
       "    .dataframe tbody tr th {\n",
       "        vertical-align: top;\n",
       "    }\n",
       "\n",
       "    .dataframe thead th {\n",
       "        text-align: right;\n",
       "    }\n",
       "</style>\n",
       "<table border=\"1\" class=\"dataframe\">\n",
       "  <thead>\n",
       "    <tr style=\"text-align: right;\">\n",
       "      <th></th>\n",
       "      <th>pos</th>\n",
       "      <th>lemma</th>\n",
       "      <th>freq</th>\n",
       "      <th>word_length</th>\n",
       "    </tr>\n",
       "  </thead>\n",
       "  <tbody>\n",
       "    <tr>\n",
       "      <th>0</th>\n",
       "      <td>T</td>\n",
       "      <td>i</td>\n",
       "      <td>3.224048e-02</td>\n",
       "      <td>1</td>\n",
       "    </tr>\n",
       "    <tr>\n",
       "      <th>13234</th>\n",
       "      <td>NC</td>\n",
       "      <td>Y</td>\n",
       "      <td>2.362455e-06</td>\n",
       "      <td>1</td>\n",
       "    </tr>\n",
       "    <tr>\n",
       "      <th>18642</th>\n",
       "      <td>D</td>\n",
       "      <td>5</td>\n",
       "      <td>1.357439e-06</td>\n",
       "      <td>1</td>\n",
       "    </tr>\n",
       "    <tr>\n",
       "      <th>25249</th>\n",
       "      <td>NC</td>\n",
       "      <td>D</td>\n",
       "      <td>8.215785e-07</td>\n",
       "      <td>1</td>\n",
       "    </tr>\n",
       "    <tr>\n",
       "      <th>19775</th>\n",
       "      <td>NC</td>\n",
       "      <td>H</td>\n",
       "      <td>1.235147e-06</td>\n",
       "      <td>1</td>\n",
       "    </tr>\n",
       "    <tr>\n",
       "      <th>...</th>\n",
       "      <td>...</td>\n",
       "      <td>...</td>\n",
       "      <td>...</td>\n",
       "      <td>...</td>\n",
       "    </tr>\n",
       "    <tr>\n",
       "      <th>253770</th>\n",
       "      <td>NC</td>\n",
       "      <td>ejendomsadministrationsvirksomhed</td>\n",
       "      <td>7.782205e-09</td>\n",
       "      <td>33</td>\n",
       "    </tr>\n",
       "    <tr>\n",
       "      <th>274630</th>\n",
       "      <td>NC</td>\n",
       "      <td>forbrugerforventningsundersøgelse</td>\n",
       "      <td>6.670461e-09</td>\n",
       "      <td>33</td>\n",
       "    </tr>\n",
       "    <tr>\n",
       "      <th>116970</th>\n",
       "      <td>NC</td>\n",
       "      <td>medarbejdertilfredshedsundersøgelse</td>\n",
       "      <td>4.002277e-08</td>\n",
       "      <td>35</td>\n",
       "    </tr>\n",
       "    <tr>\n",
       "      <th>207450</th>\n",
       "      <td>T</td>\n",
       "      <td>professortiltrædelsesforelæsningfor</td>\n",
       "      <td>1.222918e-08</td>\n",
       "      <td>35</td>\n",
       "    </tr>\n",
       "    <tr>\n",
       "      <th>270421</th>\n",
       "      <td>NC</td>\n",
       "      <td>bollebollebollebollebollebollebollebolle</td>\n",
       "      <td>6.670461e-09</td>\n",
       "      <td>40</td>\n",
       "    </tr>\n",
       "  </tbody>\n",
       "</table>\n",
       "<p>299999 rows × 4 columns</p>\n",
       "</div>"
      ],
      "text/plain": [
       "       pos                                     lemma          freq  \\\n",
       "0        T                                         i  3.224048e-02   \n",
       "13234   NC                                         Y  2.362455e-06   \n",
       "18642    D                                         5  1.357439e-06   \n",
       "25249   NC                                         D  8.215785e-07   \n",
       "19775   NC                                         H  1.235147e-06   \n",
       "...     ..                                       ...           ...   \n",
       "253770  NC         ejendomsadministrationsvirksomhed  7.782205e-09   \n",
       "274630  NC         forbrugerforventningsundersøgelse  6.670461e-09   \n",
       "116970  NC       medarbejdertilfredshedsundersøgelse  4.002277e-08   \n",
       "207450   T       professortiltrædelsesforelæsningfor  1.222918e-08   \n",
       "270421  NC  bollebollebollebollebollebollebollebolle  6.670461e-09   \n",
       "\n",
       "        word_length  \n",
       "0                 1  \n",
       "13234             1  \n",
       "18642             1  \n",
       "25249             1  \n",
       "19775             1  \n",
       "...             ...  \n",
       "253770           33  \n",
       "274630           33  \n",
       "116970           35  \n",
       "207450           35  \n",
       "270421           40  \n",
       "\n",
       "[299999 rows x 4 columns]"
      ]
     },
     "execution_count": 28,
     "metadata": {},
     "output_type": "execute_result"
    }
   ],
   "source": [
    "lemma_table.sort_values(\"word_length\")"
   ]
  },
  {
   "cell_type": "code",
   "execution_count": 3,
   "metadata": {},
   "outputs": [
    {
     "data": {
      "text/plain": [
       "NC    238327\n",
       "A      25772\n",
       "V      25601\n",
       "D       3264\n",
       "T       2186\n",
       "P       2004\n",
       "AW      1161\n",
       "C        693\n",
       "I        393\n",
       "U        165\n",
       "EW       135\n",
       "DW       115\n",
       "VW        96\n",
       "IW        56\n",
       "TW        19\n",
       "PW        13\n",
       "Name: pos, dtype: int64"
      ]
     },
     "execution_count": 3,
     "metadata": {},
     "output_type": "execute_result"
    }
   ],
   "source": [
    "lemma_table.pos.value_counts()"
   ]
  },
  {
   "cell_type": "code",
   "execution_count": 4,
   "metadata": {},
   "outputs": [
    {
     "data": {
      "text/html": [
       "<div>\n",
       "<style scoped>\n",
       "    .dataframe tbody tr th:only-of-type {\n",
       "        vertical-align: middle;\n",
       "    }\n",
       "\n",
       "    .dataframe tbody tr th {\n",
       "        vertical-align: top;\n",
       "    }\n",
       "\n",
       "    .dataframe thead th {\n",
       "        text-align: right;\n",
       "    }\n",
       "</style>\n",
       "<table border=\"1\" class=\"dataframe\">\n",
       "  <thead>\n",
       "    <tr style=\"text-align: right;\">\n",
       "      <th></th>\n",
       "      <th>pos</th>\n",
       "      <th>lemma</th>\n",
       "      <th>freq</th>\n",
       "    </tr>\n",
       "  </thead>\n",
       "  <tbody>\n",
       "    <tr>\n",
       "      <th>8</th>\n",
       "      <td>U</td>\n",
       "      <td>at</td>\n",
       "      <td>1.450994e-02</td>\n",
       "    </tr>\n",
       "    <tr>\n",
       "      <th>12</th>\n",
       "      <td>U</td>\n",
       "      <td>der</td>\n",
       "      <td>1.289033e-02</td>\n",
       "    </tr>\n",
       "    <tr>\n",
       "      <th>15</th>\n",
       "      <td>U</td>\n",
       "      <td>som</td>\n",
       "      <td>9.942140e-03</td>\n",
       "    </tr>\n",
       "    <tr>\n",
       "      <th>33715</th>\n",
       "      <td>U</td>\n",
       "      <td>alexander</td>\n",
       "      <td>4.869437e-07</td>\n",
       "    </tr>\n",
       "    <tr>\n",
       "      <th>35461</th>\n",
       "      <td>U</td>\n",
       "      <td>tilat</td>\n",
       "      <td>4.446974e-07</td>\n",
       "    </tr>\n",
       "    <tr>\n",
       "      <th>...</th>\n",
       "      <td>...</td>\n",
       "      <td>...</td>\n",
       "      <td>...</td>\n",
       "    </tr>\n",
       "    <tr>\n",
       "      <th>298113</th>\n",
       "      <td>U</td>\n",
       "      <td>begyndeat</td>\n",
       "      <td>5.558718e-09</td>\n",
       "    </tr>\n",
       "    <tr>\n",
       "      <th>298237</th>\n",
       "      <td>U</td>\n",
       "      <td>beskrevetsom</td>\n",
       "      <td>5.558718e-09</td>\n",
       "    </tr>\n",
       "    <tr>\n",
       "      <th>299333</th>\n",
       "      <td>U</td>\n",
       "      <td>bådesom</td>\n",
       "      <td>5.558718e-09</td>\n",
       "    </tr>\n",
       "    <tr>\n",
       "      <th>299455</th>\n",
       "      <td>U</td>\n",
       "      <td>børnsom</td>\n",
       "      <td>5.558718e-09</td>\n",
       "    </tr>\n",
       "    <tr>\n",
       "      <th>299995</th>\n",
       "      <td>U</td>\n",
       "      <td>dader</td>\n",
       "      <td>5.558718e-09</td>\n",
       "    </tr>\n",
       "  </tbody>\n",
       "</table>\n",
       "<p>165 rows × 3 columns</p>\n",
       "</div>"
      ],
      "text/plain": [
       "       pos         lemma          freq\n",
       "8        U            at  1.450994e-02\n",
       "12       U           der  1.289033e-02\n",
       "15       U           som  9.942140e-03\n",
       "33715    U     alexander  4.869437e-07\n",
       "35461    U         tilat  4.446974e-07\n",
       "...     ..           ...           ...\n",
       "298113   U     begyndeat  5.558718e-09\n",
       "298237   U  beskrevetsom  5.558718e-09\n",
       "299333   U       bådesom  5.558718e-09\n",
       "299455   U       børnsom  5.558718e-09\n",
       "299995   U         dader  5.558718e-09\n",
       "\n",
       "[165 rows x 3 columns]"
      ]
     },
     "execution_count": 4,
     "metadata": {},
     "output_type": "execute_result"
    }
   ],
   "source": [
    "lemma_table[lemma_table.pos == \"U\"]"
   ]
  },
  {
   "cell_type": "code",
   "execution_count": 5,
   "metadata": {},
   "outputs": [
    {
     "data": {
      "text/html": [
       "<div>\n",
       "<style scoped>\n",
       "    .dataframe tbody tr th:only-of-type {\n",
       "        vertical-align: middle;\n",
       "    }\n",
       "\n",
       "    .dataframe tbody tr th {\n",
       "        vertical-align: top;\n",
       "    }\n",
       "\n",
       "    .dataframe thead th {\n",
       "        text-align: right;\n",
       "    }\n",
       "</style>\n",
       "<table border=\"1\" class=\"dataframe\">\n",
       "  <thead>\n",
       "    <tr style=\"text-align: right;\">\n",
       "      <th></th>\n",
       "      <th>pos</th>\n",
       "      <th>lemma</th>\n",
       "      <th>freq</th>\n",
       "    </tr>\n",
       "  </thead>\n",
       "  <tbody>\n",
       "    <tr>\n",
       "      <th>8</th>\n",
       "      <td>U</td>\n",
       "      <td>at</td>\n",
       "      <td>0.014510</td>\n",
       "    </tr>\n",
       "    <tr>\n",
       "      <th>13</th>\n",
       "      <td>C</td>\n",
       "      <td>at</td>\n",
       "      <td>0.011289</td>\n",
       "    </tr>\n",
       "  </tbody>\n",
       "</table>\n",
       "</div>"
      ],
      "text/plain": [
       "   pos lemma      freq\n",
       "8    U    at  0.014510\n",
       "13   C    at  0.011289"
      ]
     },
     "execution_count": 5,
     "metadata": {},
     "output_type": "execute_result"
    }
   ],
   "source": [
    "lemma_table[lemma_table.lemma == \"at\"]"
   ]
  },
  {
   "cell_type": "code",
   "execution_count": 112,
   "metadata": {},
   "outputs": [
    {
     "data": {
      "text/html": [
       "<div>\n",
       "<style scoped>\n",
       "    .dataframe tbody tr th:only-of-type {\n",
       "        vertical-align: middle;\n",
       "    }\n",
       "\n",
       "    .dataframe tbody tr th {\n",
       "        vertical-align: top;\n",
       "    }\n",
       "\n",
       "    .dataframe thead th {\n",
       "        text-align: right;\n",
       "    }\n",
       "</style>\n",
       "<table border=\"1\" class=\"dataframe\">\n",
       "  <thead>\n",
       "    <tr style=\"text-align: right;\">\n",
       "      <th></th>\n",
       "      <th>Tag</th>\n",
       "      <th>POS</th>\n",
       "      <th>Example</th>\n",
       "      <th>Ex-list</th>\n",
       "    </tr>\n",
       "  </thead>\n",
       "  <tbody>\n",
       "    <tr>\n",
       "      <th>0</th>\n",
       "      <td>A</td>\n",
       "      <td>adjective</td>\n",
       "      <td>god</td>\n",
       "      <td>•</td>\n",
       "    </tr>\n",
       "    <tr>\n",
       "      <th>1</th>\n",
       "      <td>C</td>\n",
       "      <td>conjunction</td>\n",
       "      <td>og</td>\n",
       "      <td>•</td>\n",
       "    </tr>\n",
       "    <tr>\n",
       "      <th>2</th>\n",
       "      <td>D</td>\n",
       "      <td>adverb</td>\n",
       "      <td>ud</td>\n",
       "      <td>•</td>\n",
       "    </tr>\n",
       "    <tr>\n",
       "      <th>3</th>\n",
       "      <td>EW</td>\n",
       "      <td>POW lex.item</td>\n",
       "      <td>anti@</td>\n",
       "      <td>•</td>\n",
       "    </tr>\n",
       "    <tr>\n",
       "      <th>4</th>\n",
       "      <td>I</td>\n",
       "      <td>interjection</td>\n",
       "      <td>ja</td>\n",
       "      <td>•</td>\n",
       "    </tr>\n",
       "    <tr>\n",
       "      <th>8</th>\n",
       "      <td>NC</td>\n",
       "      <td>common noun</td>\n",
       "      <td>år</td>\n",
       "      <td>•</td>\n",
       "    </tr>\n",
       "    <tr>\n",
       "      <th>11</th>\n",
       "      <td>P</td>\n",
       "      <td>pronoun</td>\n",
       "      <td>den</td>\n",
       "      <td>•</td>\n",
       "    </tr>\n",
       "    <tr>\n",
       "      <th>12</th>\n",
       "      <td>T</td>\n",
       "      <td>preposition</td>\n",
       "      <td>i</td>\n",
       "      <td>•</td>\n",
       "    </tr>\n",
       "    <tr>\n",
       "      <th>13</th>\n",
       "      <td>U</td>\n",
       "      <td>unique</td>\n",
       "      <td>at, som, der</td>\n",
       "      <td>•</td>\n",
       "    </tr>\n",
       "    <tr>\n",
       "      <th>14</th>\n",
       "      <td>V</td>\n",
       "      <td>verb</td>\n",
       "      <td>være</td>\n",
       "      <td>•</td>\n",
       "    </tr>\n",
       "  </tbody>\n",
       "</table>\n",
       "</div>"
      ],
      "text/plain": [
       "   Tag            POS        Example  Ex-list\n",
       "0    A      adjective            god        •\n",
       "1    C    conjunction             og        •\n",
       "2    D         adverb             ud        •\n",
       "3   EW   POW lex.item          anti@        •\n",
       "4    I   interjection             ja        •\n",
       "8   NC    common noun             år        •\n",
       "11   P        pronoun            den        •\n",
       "12   T    preposition              i        •\n",
       "13   U         unique   at, som, der        •\n",
       "14   V           verb           være        •"
      ]
     },
     "execution_count": 112,
     "metadata": {},
     "output_type": "execute_result"
    }
   ],
   "source": [
    "df.dropna()"
   ]
  },
  {
   "cell_type": "code",
   "execution_count": null,
   "metadata": {},
   "outputs": [],
   "source": [
    "{\n",
    "    \"ADJ\" : \"A\" ,\n",
    "    \"CCONJ\" : \"C\" ,\n",
    "    \"SCONJ\" : \"C\" ,\n",
    "    \"ADV\" : \"D\" ,\n",
    "    \"NOUN\" : \"NC\",\n",
    "    \"PRON\" : \"P\" ,\n",
    "    \"ADP\" : \"T\" ,\n",
    "    \"VERB\" : \"V\" ,\n",
    "    \n",
    "}"
   ]
  },
  {
   "cell_type": "code",
   "execution_count": 138,
   "metadata": {},
   "outputs": [],
   "source": [
    "import spacy\n",
    "import lemmy"
   ]
  },
  {
   "cell_type": "code",
   "execution_count": 139,
   "metadata": {},
   "outputs": [],
   "source": [
    "lemmatizer = lemmy.load(\"da\")"
   ]
  },
  {
   "cell_type": "code",
   "execution_count": 141,
   "metadata": {},
   "outputs": [
    {
     "data": {
      "text/plain": [
       "['som']"
      ]
     },
     "execution_count": 141,
     "metadata": {},
     "output_type": "execute_result"
    }
   ],
   "source": [
    "lemmatizer.lemmatize(\"\", \"som\")"
   ]
  },
  {
   "cell_type": "code",
   "execution_count": 134,
   "metadata": {},
   "outputs": [],
   "source": [
    "spacy_pipeline = spacy.load(\"da_core_news_sm\")"
   ]
  },
  {
   "cell_type": "code",
   "execution_count": 153,
   "metadata": {},
   "outputs": [
    {
     "data": {
      "text/plain": [
       "[('At', 'PART'),\n",
       " ('være', 'AUX'),\n",
       " ('eller', 'CCONJ'),\n",
       " ('ikke', 'ADV'),\n",
       " ('at', 'PART'),\n",
       " ('være', 'AUX')]"
      ]
     },
     "execution_count": 153,
     "metadata": {},
     "output_type": "execute_result"
    }
   ],
   "source": [
    "doc = spacy_pipeline(\"At være eller ikke at være\")\n",
    "[(token.text, token.pos_) for token in doc]"
   ]
  },
  {
   "cell_type": "code",
   "execution_count": 6,
   "metadata": {},
   "outputs": [
    {
     "data": {
      "image/png": "[encoded data removed]",
      "text/plain": [
       "<Figure size 1500x480 with 1 Axes>"
      ]
     },
     "metadata": {},
     "output_type": "display_data"
    }
   ],
   "source": [
    "ax = lemma_table.freq.cumsum().plot()\n",
    "\n",
    "fig = ax.get_figure()\n",
    "\n",
    "fig.set_figwidth(15)"
   ]
  },
  {
   "cell_type": "code",
   "execution_count": 8,
   "metadata": {},
   "outputs": [
    {
     "data": {
      "text/plain": [
       "0         3.224048e-02\n",
       "1         3.093546e-02\n",
       "2         2.960070e-02\n",
       "3         2.535859e-02\n",
       "4         2.485305e-02\n",
       "              ...     \n",
       "299995    5.558718e-09\n",
       "299996    5.558718e-09\n",
       "299997    5.558718e-09\n",
       "299998    5.558718e-09\n",
       "299999    5.558718e-09\n",
       "Name: freq, Length: 300000, dtype: float64"
      ]
     },
     "execution_count": 8,
     "metadata": {},
     "output_type": "execute_result"
    }
   ],
   "source": [
    "lemma_table.freq#.hist(bins=100);"
   ]
  },
  {
   "cell_type": "code",
   "execution_count": 104,
   "metadata": {},
   "outputs": [
    {
     "data": {
      "image/png": "[encoded data removed]",
      "text/plain": [
       "<Figure size 640x480 with 1 Axes>"
      ]
     },
     "metadata": {},
     "output_type": "display_data"
    }
   ],
   "source": [
    "d = complexitext._min_max_scale(np.log(lemma_table.freq))\n",
    "plt.hist(d, bins=100);"
   ]
  },
  {
   "cell_type": "code",
   "execution_count": 73,
   "metadata": {},
   "outputs": [
    {
     "data": {
      "image/png": "[encoded data removed]",
      "text/plain": [
       "<Figure size 640x480 with 1 Axes>"
      ]
     },
     "metadata": {},
     "output_type": "display_data"
    }
   ],
   "source": [
    "fitted_data, fitted_lambda = stats.boxcox(lemma_table.freq)\n",
    "fitted_data = complexitext._min_max_scale(fitted_data)\n",
    "plt.hist(fitted_data, bins=100);"
   ]
  },
  {
   "cell_type": "code",
   "execution_count": 76,
   "metadata": {},
   "outputs": [
    {
     "data": {
      "text/plain": [
       "array([1.        , 0.99993348, 0.99986143, 0.99959987, 0.99956478,\n",
       "       0.99864363, 0.99863186, 0.99856384, 0.99853056, 0.99848018,\n",
       "       0.99847031, 0.99828298, 0.99827613, 0.99797842, 0.99797141,\n",
       "       0.99768004, 0.99750498, 0.996721  , 0.99653889, 0.9965308 ,\n",
       "       0.99639716, 0.99631449, 0.99617705, 0.99613626, 0.99593841,\n",
       "       0.99570301, 0.99556199, 0.99527899, 0.99527689, 0.99523007,\n",
       "       0.99521526, 0.99521293, 0.99495846, 0.9948645 , 0.9947227 ,\n",
       "       0.99443818, 0.99425407, 0.9942262 , 0.99407586, 0.99399394,\n",
       "       0.99392511, 0.99380352, 0.99374936, 0.99368731, 0.99331616,\n",
       "       0.99293382, 0.99283219, 0.99282554, 0.99272034, 0.99268893,\n",
       "       0.992686  , 0.99264571, 0.9926386 , 0.99252148, 0.9924789 ,\n",
       "       0.9924065 , 0.99225529, 0.9922042 , 0.99216668, 0.99201734,\n",
       "       0.99197671, 0.99196086, 0.99183774, 0.99146001, 0.99144028,\n",
       "       0.99112758, 0.99107599, 0.9908765 , 0.99079704, 0.99066956,\n",
       "       0.99063818, 0.99053551, 0.99041463, 0.99035463, 0.99029532,\n",
       "       0.99022324, 0.99020586, 0.99017217, 0.99008188, 0.99002714,\n",
       "       0.98997902, 0.98973482, 0.98967635, 0.98945706, 0.98941625,\n",
       "       0.98940124, 0.98931797, 0.98931051, 0.98900556, 0.98900273,\n",
       "       0.9889854 , 0.98897308, 0.98895276, 0.98891152, 0.98886856,\n",
       "       0.98869818, 0.98868697, 0.98867475, 0.98864587, 0.98863734])"
      ]
     },
     "execution_count": 76,
     "metadata": {},
     "output_type": "execute_result"
    }
   ],
   "source": [
    "fitted_data[:100]"
   ]
  },
  {
   "cell_type": "code",
   "execution_count": 2,
   "metadata": {},
   "outputs": [],
   "source": [
    "lemmatizer = lemmy.load(\"da\")\n",
    "spacy_pipeline = spacy.load(\"da_core_news_sm\")"
   ]
  },
  {
   "cell_type": "code",
   "execution_count": 9,
   "metadata": {},
   "outputs": [
    {
     "name": "stdout",
     "output_type": "stream",
     "text": [
      "0.4395794733371865\n"
     ]
    }
   ],
   "source": [
    "# Specify your text\n",
    "text = \"dette er en test hahahaaa i\"\n",
    "\n",
    "# Create POS (optional)\n",
    "doc = spacy_pipeline(text)\n",
    "\n",
    "# Get lemmas for text (mandatory)\n",
    "lemmas = [lemmatizer.lemmatize(token.pos_, token.text)[0] for token in doc]\n",
    "\n",
    "# Extract frequencies\n",
    "freqs = [complexitext.get_lemma_freq(lemma) for lemma in lemmas]\n",
    "\n",
    "# Compute complexity as a mean of inverse frequencies\n",
    "complexity_score = np.mean([1 - freq for freq in freqs if freq])\n",
    "print(complexity_score)"
   ]
  },
  {
   "cell_type": "code",
   "execution_count": 12,
   "metadata": {},
   "outputs": [],
   "source": [
    "text = \"dette er en test hahahaaa i\""
   ]
  },
  {
   "cell_type": "code",
   "execution_count": 16,
   "metadata": {},
   "outputs": [
    {
     "data": {
      "text/plain": [
       "(6, 3.6666666666666665)"
      ]
     },
     "execution_count": 16,
     "metadata": {},
     "output_type": "execute_result"
    }
   ],
   "source": [
    "tokens = text.split()\n",
    "\n",
    "len(tokens), np.mean([len(token) for token in tokens])"
   ]
  },
  {
   "cell_type": "code",
   "execution_count": null,
   "metadata": {},
   "outputs": [],
   "source": []
  }
 ],
 "metadata": {
  "kernelspec": {
   "display_name": "sentm-VGHZqAxw-py3.9",
   "language": "python",
   "name": "python3"
  },
  "language_info": {
   "codemirror_mode": {
    "name": "ipython",
    "version": 3
   },
   "file_extension": ".py",
   "mimetype": "text/x-python",
   "name": "python",
   "nbconvert_exporter": "python",
   "pygments_lexer": "ipython3",
   "version": "3.9.13"
  },
  "orig_nbformat": 4
 },
 "nbformat": 4,
 "nbformat_minor": 2
}
