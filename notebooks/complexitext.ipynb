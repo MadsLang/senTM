{
 "cells": [
  {
   "cell_type": "code",
   "execution_count": 1,
   "metadata": {},
   "outputs": [],
   "source": [
    "from sentm import complexitext\n",
    "import pandas as pd\n",
    "from spacy.cli import download\n",
    "import spacy\n",
    "import lemmy\n",
    "import numpy as np\n"
   ]
  },
  {
   "cell_type": "code",
   "execution_count": 2,
   "metadata": {},
   "outputs": [],
   "source": [
    "lemmatizer = lemmy.load(\"da\")\n",
    "spacy_pipeline = spacy.load(\"da_core_news_sm\")"
   ]
  },
  {
   "cell_type": "code",
   "execution_count": 9,
   "metadata": {},
   "outputs": [
    {
     "name": "stdout",
     "output_type": "stream",
     "text": [
      "0.4395794733371865\n"
     ]
    }
   ],
   "source": [
    "# Specify your text\n",
    "text = \"dette er en test hahahaaa i\"\n",
    "\n",
    "# Create POS (optional)\n",
    "doc = spacy_pipeline(text)\n",
    "\n",
    "# Get lemmas for text (mandatory)\n",
    "lemmas = [lemmatizer.lemmatize(token.pos_, token.text)[0] for token in doc]\n",
    "\n",
    "# Extract frequencies\n",
    "freqs = [complexitext.get_lemma_freq(lemma) for lemma in lemmas]\n",
    "\n",
    "# Compute complexity as a mean of inverse frequencies\n",
    "complexity_score = np.mean([1 - freq for freq in freqs if freq])\n",
    "print(complexity_score)"
   ]
  }
 ],
 "metadata": {
  "kernelspec": {
   "display_name": "sentm-VGHZqAxw-py3.9",
   "language": "python",
   "name": "python3"
  },
  "language_info": {
   "codemirror_mode": {
    "name": "ipython",
    "version": 3
   },
   "file_extension": ".py",
   "mimetype": "text/x-python",
   "name": "python",
   "nbconvert_exporter": "python",
   "pygments_lexer": "ipython3",
   "version": "3.9.13"
  },
  "orig_nbformat": 4
 },
 "nbformat": 4,
 "nbformat_minor": 2
}
